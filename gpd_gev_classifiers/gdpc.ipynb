{
 "cells": [
  {
   "cell_type": "code",
   "execution_count": 1,
   "metadata": {},
   "outputs": [],
   "source": [
    "import numpy as np\n",
    "import matplotlib.pyplot as plt\n",
    "from sklearn.neighbors import NearestNeighbors\n",
    "import scipy.stats as stats"
   ]
  },
  {
   "cell_type": "code",
   "execution_count": 2,
   "metadata": {},
   "outputs": [],
   "source": [
    "def gpdcTrain(train, k):\n",
    "    q = 1-1/(1*k)\n",
    "    n, p = train.shape\n",
    "    neigh = NearestNeighbors(n_neighbors=k+2)\n",
    "    neigh.fit(train)\n",
    "    distances = np.array([neigh.kneighbors([train[i]])[0][0] for i in range(0, n)])\n",
    "    threshold = distances[(k+1)]\n",
    "    distances = distances[-(k+1):]\n",
    "    R = distances/threshold\n",
    "    \n",
    "    shape = np.mean(log(distances[distances!=0]))\n",
    "    ball = stats.genpareto.fit(distances, 1, loc=0, scale=1)\n",
    "    pshape = p*shape\n",
    "    return (pshapes, ball, k)"
   ]
  },
  {
   "cell_type": "code",
   "execution_count": null,
   "metadata": {},
   "outputs": [],
   "source": [
    "k=2\n",
    "q = 1-1/(1*k)\n",
    "n, p = train.shape\n",
    "neigh = NearestNeighbors(n_neighbors=k+2)\n",
    "neigh.fit(train)\n",
    "distances = np.array([neigh.kneighbors([train[i]])[0][0][-1] for i in range(0, n)])\n",
    "threshold = distances[:(k+1)]\n",
    "#distances = distances[-(k+1):]\n",
    "#R = distances/threshold"
   ]
  },
  {
   "cell_type": "code",
   "execution_count": null,
   "metadata": {},
   "outputs": [],
   "source": [
    "shape <- apply(R,1,function(x) mean(log(x[x != 0])))"
   ]
  }
 ],
 "metadata": {
  "kernelspec": {
   "display_name": "Python 3",
   "language": "python",
   "name": "python3"
  },
  "language_info": {
   "codemirror_mode": {
    "name": "ipython",
    "version": 3
   },
   "file_extension": ".py",
   "mimetype": "text/x-python",
   "name": "python",
   "nbconvert_exporter": "python",
   "pygments_lexer": "ipython3",
   "version": "3.7.3"
  }
 },
 "nbformat": 4,
 "nbformat_minor": 2
}
